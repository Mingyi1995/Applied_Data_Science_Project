{
 "cells": [
  {
   "cell_type": "code",
   "execution_count": 1,
   "metadata": {},
   "outputs": [],
   "source": [
    "import pandas as pd\n",
    "import numpy as np\n",
    "import geopandas as gpd\n",
    "import shapely\n",
    "from shapely.geometry import Polygon, Point, LineString\n",
    "import matplotlib.pyplot as plt\n",
    "import os\n",
    "import urllib\n",
    "\n",
    "from zipfile import ZipFile\n",
    "import math\n",
    "%matplotlib inline"
   ]
  },
  {
   "cell_type": "code",
   "execution_count": 2,
   "metadata": {
    "scrolled": true
   },
   "outputs": [
    {
     "data": {
      "text/plain": [
       "'/Users/hemingyi/PUI2018/PUIdata'"
      ]
     },
     "execution_count": 2,
     "metadata": {},
     "output_type": "execute_result"
    }
   ],
   "source": [
    "os.getenv(\"PUIDATA\")"
   ]
  },
  {
   "cell_type": "code",
   "execution_count": 28,
   "metadata": {},
   "outputs": [],
   "source": [
    "url = 'https://data.cityofnewyork.us/api/geospatial/uxpt-rzip?method=export&format=Shapefile'\n",
    "urllib.request.urlretrieve(url, \"centerline.zip\")\n",
    "!mv centerline.zip $PUIDATA\n"
   ]
  },
  {
   "cell_type": "code",
   "execution_count": 29,
   "metadata": {},
   "outputs": [
    {
     "name": "stdout",
     "output_type": "stream",
     "text": [
      "mv: centerline.zip: No such file or directory\n",
      "Archive:  /Users/hemingyi/PUI2018/PUIdata/centerline.zip\n",
      "  inflating: /Users/hemingyi/PUI2018/PUIdata/geo_export_a55fce54-f07f-4cd3-a213-255174e5c7dd.dbf  \n",
      "  inflating: /Users/hemingyi/PUI2018/PUIdata/geo_export_a55fce54-f07f-4cd3-a213-255174e5c7dd.shp  \n",
      "  inflating: /Users/hemingyi/PUI2018/PUIdata/geo_export_a55fce54-f07f-4cd3-a213-255174e5c7dd.shx  \n",
      "  inflating: /Users/hemingyi/PUI2018/PUIdata/geo_export_a55fce54-f07f-4cd3-a213-255174e5c7dd.prj  \n"
     ]
    }
   ],
   "source": [
    "!unzip -o $PUIDATA/centerline.zip -d $PUIDATA"
   ]
  },
  {
   "cell_type": "code",
   "execution_count": 3,
   "metadata": {},
   "outputs": [],
   "source": [
    "shp = gpd.GeoDataFrame.from_file(os.getenv('PUIDATA') + '/' + 'geo_export_a55fce54-f07f-4cd3-a213-255174e5c7dd.shp')"
   ]
  },
  {
   "cell_type": "code",
   "execution_count": 16,
   "metadata": {},
   "outputs": [],
   "source": [
    "shp_mht = shp[shp['boroughcod'] == '1']\n",
    "shp_mht = shp_mht[['bike_lane', 'geometry']]\n",
    "# shp_mht.plot()"
   ]
  },
  {
   "cell_type": "code",
   "execution_count": 17,
   "metadata": {},
   "outputs": [],
   "source": [
    "shp_mht.reset_index(inplace=True)"
   ]
  },
  {
   "cell_type": "markdown",
   "metadata": {},
   "source": [
    "# 6 get end point and start point"
   ]
  },
  {
   "cell_type": "code",
   "execution_count": 18,
   "metadata": {},
   "outputs": [],
   "source": [
    "def f(x):    \n",
    "    return x['geometry'].coords\n",
    "shp_mht['coords'] = shp_mht.apply(f, axis=1)"
   ]
  },
  {
   "cell_type": "code",
   "execution_count": 19,
   "metadata": {},
   "outputs": [],
   "source": [
    "def whether(x):\n",
    "    if len(x['coords']) > 2:\n",
    "        return 0\n",
    "    else:\n",
    "        return 1\n",
    "shp_mht['drop'] = shp_mht.apply(whether, axis=1)\n",
    "shp_mht = shp_mht[shp_mht['drop'] == 1]"
   ]
  },
  {
   "cell_type": "code",
   "execution_count": 20,
   "metadata": {},
   "outputs": [],
   "source": [
    "def start(x):\n",
    "    return x['coords'][0]\n",
    "def end(x):\n",
    "    return x['coords'][1]\n",
    "shp_mht['startpoint'] = shp_mht.apply(start, axis=1)\n",
    "shp_mht['endpoint'] = shp_mht.apply(end, axis=1)"
   ]
  },
  {
   "cell_type": "code",
   "execution_count": 21,
   "metadata": {},
   "outputs": [
    {
     "data": {
      "text/html": [
       "<div>\n",
       "<style scoped>\n",
       "    .dataframe tbody tr th:only-of-type {\n",
       "        vertical-align: middle;\n",
       "    }\n",
       "\n",
       "    .dataframe tbody tr th {\n",
       "        vertical-align: top;\n",
       "    }\n",
       "\n",
       "    .dataframe thead th {\n",
       "        text-align: right;\n",
       "    }\n",
       "</style>\n",
       "<table border=\"1\" class=\"dataframe\">\n",
       "  <thead>\n",
       "    <tr style=\"text-align: right;\">\n",
       "      <th></th>\n",
       "      <th>index</th>\n",
       "      <th>bike_lane</th>\n",
       "      <th>geometry</th>\n",
       "      <th>coords</th>\n",
       "      <th>drop</th>\n",
       "      <th>startpoint</th>\n",
       "      <th>endpoint</th>\n",
       "    </tr>\n",
       "  </thead>\n",
       "  <tbody>\n",
       "    <tr>\n",
       "      <th>1</th>\n",
       "      <td>21</td>\n",
       "      <td>None</td>\n",
       "      <td>LINESTRING (-73.9626945760758 40.7607460524364...</td>\n",
       "      <td>((-73.9626945760758, 40.76074605243648), (-73....</td>\n",
       "      <td>1</td>\n",
       "      <td>(-73.9626945760758, 40.76074605243648)</td>\n",
       "      <td>(-73.96152208563745, 40.7602303599116)</td>\n",
       "    </tr>\n",
       "    <tr>\n",
       "      <th>2</th>\n",
       "      <td>34</td>\n",
       "      <td>None</td>\n",
       "      <td>LINESTRING (-73.98391366493104 40.711303332442...</td>\n",
       "      <td>((-73.98391366493104, 40.71130333244239), (-73...</td>\n",
       "      <td>1</td>\n",
       "      <td>(-73.98391366493104, 40.71130333244239)</td>\n",
       "      <td>(-73.98361462167439, 40.71132564088042)</td>\n",
       "    </tr>\n",
       "    <tr>\n",
       "      <th>4</th>\n",
       "      <td>58</td>\n",
       "      <td>None</td>\n",
       "      <td>LINESTRING (-73.94778083851676 40.830263780459...</td>\n",
       "      <td>((-73.94778083851676, 40.83026378045939), (-73...</td>\n",
       "      <td>1</td>\n",
       "      <td>(-73.94778083851676, 40.83026378045939)</td>\n",
       "      <td>(-73.94732595299794, 40.83088799495896)</td>\n",
       "    </tr>\n",
       "    <tr>\n",
       "      <th>5</th>\n",
       "      <td>65</td>\n",
       "      <td>None</td>\n",
       "      <td>LINESTRING (-73.93547108195284 40.849144383074...</td>\n",
       "      <td>((-73.93547108195284, 40.849144383074204), (-7...</td>\n",
       "      <td>1</td>\n",
       "      <td>(-73.93547108195284, 40.849144383074204)</td>\n",
       "      <td>(-73.93496529247663, 40.849839999219384)</td>\n",
       "    </tr>\n",
       "    <tr>\n",
       "      <th>6</th>\n",
       "      <td>81</td>\n",
       "      <td>None</td>\n",
       "      <td>LINESTRING (-73.93419101755205 40.814089650452...</td>\n",
       "      <td>((-73.93419101755205, 40.81408965045272), (-73...</td>\n",
       "      <td>1</td>\n",
       "      <td>(-73.93419101755205, 40.81408965045272)</td>\n",
       "      <td>(-73.93406888335245, 40.81409859818532)</td>\n",
       "    </tr>\n",
       "  </tbody>\n",
       "</table>\n",
       "</div>"
      ],
      "text/plain": [
       "   index bike_lane                                           geometry  \\\n",
       "1     21      None  LINESTRING (-73.9626945760758 40.7607460524364...   \n",
       "2     34      None  LINESTRING (-73.98391366493104 40.711303332442...   \n",
       "4     58      None  LINESTRING (-73.94778083851676 40.830263780459...   \n",
       "5     65      None  LINESTRING (-73.93547108195284 40.849144383074...   \n",
       "6     81      None  LINESTRING (-73.93419101755205 40.814089650452...   \n",
       "\n",
       "                                              coords  drop  \\\n",
       "1  ((-73.9626945760758, 40.76074605243648), (-73....     1   \n",
       "2  ((-73.98391366493104, 40.71130333244239), (-73...     1   \n",
       "4  ((-73.94778083851676, 40.83026378045939), (-73...     1   \n",
       "5  ((-73.93547108195284, 40.849144383074204), (-7...     1   \n",
       "6  ((-73.93419101755205, 40.81408965045272), (-73...     1   \n",
       "\n",
       "                                 startpoint  \\\n",
       "1    (-73.9626945760758, 40.76074605243648)   \n",
       "2   (-73.98391366493104, 40.71130333244239)   \n",
       "4   (-73.94778083851676, 40.83026378045939)   \n",
       "5  (-73.93547108195284, 40.849144383074204)   \n",
       "6   (-73.93419101755205, 40.81408965045272)   \n",
       "\n",
       "                                   endpoint  \n",
       "1    (-73.96152208563745, 40.7602303599116)  \n",
       "2   (-73.98361462167439, 40.71132564088042)  \n",
       "4   (-73.94732595299794, 40.83088799495896)  \n",
       "5  (-73.93496529247663, 40.849839999219384)  \n",
       "6   (-73.93406888335245, 40.81409859818532)  "
      ]
     },
     "execution_count": 21,
     "metadata": {},
     "output_type": "execute_result"
    }
   ],
   "source": [
    "shp_mht.head()"
   ]
  },
  {
   "cell_type": "code",
   "execution_count": 22,
   "metadata": {},
   "outputs": [],
   "source": [
    "def azimuthAngle(x):\n",
    "    x1 = x['startpoint'][0]\n",
    "    y1 = x['startpoint'][1]\n",
    "    x2 = x['endpoint'][0]\n",
    "    y2 = x['endpoint'][1]\n",
    "    angle = 0.0;\n",
    "    dx = x2 - x1\n",
    "    dy = y2 - y1\n",
    "    if  x2 == x1:\n",
    "        angle = math.pi / 2.0\n",
    "        if  y2 == y1 :\n",
    "            angle = 0.0\n",
    "        elif y2 < y1 :\n",
    "            angle = 3.0 * math.pi / 2.0\n",
    "    elif x2 > x1 and y2 > y1:\n",
    "        angle = math.atan(dx / dy)\n",
    "    elif  x2 > x1 and  y2 < y1 :\n",
    "        angle = math.pi / 2 + math.atan(-dy / dx)\n",
    "    elif  x2 < x1 and y2 < y1 :\n",
    "        angle = math.pi + math.atan(dx / dy)\n",
    "    elif  x2 < x1 and y2 > y1 :\n",
    "        angle = 3.0 * math.pi / 2.0 + math.atan(dy / -dx)\n",
    "    return (angle * 180 / math.pi)"
   ]
  },
  {
   "cell_type": "code",
   "execution_count": 23,
   "metadata": {},
   "outputs": [],
   "source": [
    "shp_mht['angle'] = shp_mht.apply(azimuthAngle, axis=1)"
   ]
  },
  {
   "cell_type": "code",
   "execution_count": 24,
   "metadata": {},
   "outputs": [],
   "source": [
    "# calculate the mid point\n",
    "def mid_lng(x):\n",
    "    return (x['startpoint'][0] + x['endpoint'][0]) / 2\n",
    "def mid_lat(x):\n",
    "    return (x['startpoint'][1] + x['endpoint'][1]) / 2\n",
    "shp_mht['mid_lng'] = shp_mht.apply(mid_lng, axis=1)\n",
    "shp_mht['mid_lat'] = shp_mht.apply(mid_lat, axis=1)"
   ]
  },
  {
   "cell_type": "code",
   "execution_count": 25,
   "metadata": {},
   "outputs": [
    {
     "data": {
      "text/html": [
       "<div>\n",
       "<style scoped>\n",
       "    .dataframe tbody tr th:only-of-type {\n",
       "        vertical-align: middle;\n",
       "    }\n",
       "\n",
       "    .dataframe tbody tr th {\n",
       "        vertical-align: top;\n",
       "    }\n",
       "\n",
       "    .dataframe thead th {\n",
       "        text-align: right;\n",
       "    }\n",
       "</style>\n",
       "<table border=\"1\" class=\"dataframe\">\n",
       "  <thead>\n",
       "    <tr style=\"text-align: right;\">\n",
       "      <th></th>\n",
       "      <th>bike_lane</th>\n",
       "      <th>geometry</th>\n",
       "      <th>angle</th>\n",
       "      <th>mid_lng</th>\n",
       "      <th>mid_lat</th>\n",
       "    </tr>\n",
       "  </thead>\n",
       "  <tbody>\n",
       "    <tr>\n",
       "      <th>1</th>\n",
       "      <td>None</td>\n",
       "      <td>LINESTRING (-73.9626945760758 40.7607460524364...</td>\n",
       "      <td>113.741172</td>\n",
       "      <td>-73.962108</td>\n",
       "      <td>40.760488</td>\n",
       "    </tr>\n",
       "    <tr>\n",
       "      <th>2</th>\n",
       "      <td>None</td>\n",
       "      <td>LINESTRING (-73.98391366493104 40.711303332442...</td>\n",
       "      <td>85.733673</td>\n",
       "      <td>-73.983764</td>\n",
       "      <td>40.711314</td>\n",
       "    </tr>\n",
       "    <tr>\n",
       "      <th>4</th>\n",
       "      <td>None</td>\n",
       "      <td>LINESTRING (-73.94778083851676 40.830263780459...</td>\n",
       "      <td>36.082047</td>\n",
       "      <td>-73.947553</td>\n",
       "      <td>40.830576</td>\n",
       "    </tr>\n",
       "    <tr>\n",
       "      <th>5</th>\n",
       "      <td>None</td>\n",
       "      <td>LINESTRING (-73.93547108195284 40.849144383074...</td>\n",
       "      <td>36.021276</td>\n",
       "      <td>-73.935218</td>\n",
       "      <td>40.849492</td>\n",
       "    </tr>\n",
       "    <tr>\n",
       "      <th>6</th>\n",
       "      <td>None</td>\n",
       "      <td>LINESTRING (-73.93419101755205 40.814089650452...</td>\n",
       "      <td>85.809912</td>\n",
       "      <td>-73.934130</td>\n",
       "      <td>40.814094</td>\n",
       "    </tr>\n",
       "  </tbody>\n",
       "</table>\n",
       "</div>"
      ],
      "text/plain": [
       "  bike_lane                                           geometry       angle  \\\n",
       "1      None  LINESTRING (-73.9626945760758 40.7607460524364...  113.741172   \n",
       "2      None  LINESTRING (-73.98391366493104 40.711303332442...   85.733673   \n",
       "4      None  LINESTRING (-73.94778083851676 40.830263780459...   36.082047   \n",
       "5      None  LINESTRING (-73.93547108195284 40.849144383074...   36.021276   \n",
       "6      None  LINESTRING (-73.93419101755205 40.814089650452...   85.809912   \n",
       "\n",
       "     mid_lng    mid_lat  \n",
       "1 -73.962108  40.760488  \n",
       "2 -73.983764  40.711314  \n",
       "4 -73.947553  40.830576  \n",
       "5 -73.935218  40.849492  \n",
       "6 -73.934130  40.814094  "
      ]
     },
     "execution_count": 25,
     "metadata": {},
     "output_type": "execute_result"
    }
   ],
   "source": [
    "del shp_mht['index']\n",
    "del shp_mht['drop']\n",
    "del shp_mht['startpoint']\n",
    "del shp_mht['endpoint']\n",
    "del shp_mht['coords']\n",
    "shp_mht.head()"
   ]
  },
  {
   "cell_type": "code",
   "execution_count": 26,
   "metadata": {},
   "outputs": [
    {
     "name": "stdout",
     "output_type": "stream",
     "text": [
      "mkdir: Output: File exists\r\n"
     ]
    }
   ],
   "source": [
    "# output the compact file\n",
    "%mkdir Output\n",
    "shp_mht.to_csv('Output/anglecalculation.csv')\n",
    "shp_mht.to_file('Output/anglecalculation.shp', driver='ESRI Shapefile')"
   ]
  },
  {
   "cell_type": "code",
   "execution_count": null,
   "metadata": {},
   "outputs": [],
   "source": []
  }
 ],
 "metadata": {
  "kernelspec": {
   "display_name": "Python 3",
   "language": "python",
   "name": "python3"
  },
  "language_info": {
   "codemirror_mode": {
    "name": "ipython",
    "version": 3
   },
   "file_extension": ".py",
   "mimetype": "text/x-python",
   "name": "python",
   "nbconvert_exporter": "python",
   "pygments_lexer": "ipython3",
   "version": "3.6.5"
  }
 },
 "nbformat": 4,
 "nbformat_minor": 2
}

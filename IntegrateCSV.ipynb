{
 "cells": [
  {
   "cell_type": "code",
   "execution_count": 1,
   "metadata": {},
   "outputs": [],
   "source": [
    "import pandas as pd\n",
    "import numpy as np\n",
    "import os"
   ]
  },
  {
   "cell_type": "code",
   "execution_count": 3,
   "metadata": {},
   "outputs": [
    {
     "name": "stdout",
     "output_type": "stream",
     "text": [
      "(10001, 10)\n"
     ]
    },
    {
     "data": {
      "text/html": [
       "<div>\n",
       "<table border=\"1\" class=\"dataframe\">\n",
       "  <thead>\n",
       "    <tr style=\"text-align: right;\">\n",
       "      <th></th>\n",
       "      <th>start station id</th>\n",
       "      <th>end station id</th>\n",
       "      <th>count</th>\n",
       "      <th>avg_duration</th>\n",
       "      <th>ori_lat</th>\n",
       "      <th>ori_lng</th>\n",
       "      <th>des_lat</th>\n",
       "      <th>des_lng</th>\n",
       "      <th>line</th>\n",
       "      <th>estimate</th>\n",
       "    </tr>\n",
       "  </thead>\n",
       "  <tbody>\n",
       "    <tr>\n",
       "      <th>0</th>\n",
       "      <td>72</td>\n",
       "      <td>150</td>\n",
       "      <td>8</td>\n",
       "      <td>1914.375000</td>\n",
       "      <td>40.767272</td>\n",
       "      <td>-73.993929</td>\n",
       "      <td>40.720874</td>\n",
       "      <td>-73.980858</td>\n",
       "      <td>ejywFf}rbM`GgRnFwPxBzAzFtDzB~A~BtA|BxAvJrG|F|D...</td>\n",
       "      <td>29 mins</td>\n",
       "    </tr>\n",
       "    <tr>\n",
       "      <th>1</th>\n",
       "      <td>72</td>\n",
       "      <td>164</td>\n",
       "      <td>15</td>\n",
       "      <td>1116.866667</td>\n",
       "      <td>40.767272</td>\n",
       "      <td>-73.993929</td>\n",
       "      <td>40.753231</td>\n",
       "      <td>-73.970325</td>\n",
       "      <td>ejywFf}rbMd[}aAzDxBbEbCv@XlAj@ZcAjE}M`GiRj@eB^...</td>\n",
       "      <td>14 mins</td>\n",
       "    </tr>\n",
       "    <tr>\n",
       "      <th>2</th>\n",
       "      <td>72</td>\n",
       "      <td>167</td>\n",
       "      <td>13</td>\n",
       "      <td>1218.692308</td>\n",
       "      <td>40.767272</td>\n",
       "      <td>-73.993929</td>\n",
       "      <td>40.748901</td>\n",
       "      <td>-73.976049</td>\n",
       "      <td>ejywFf}rbMd[}aAzDxBbEbCv@XlAj@ZcAjE}M`GiRj@eB^...</td>\n",
       "      <td>17 mins</td>\n",
       "    </tr>\n",
       "    <tr>\n",
       "      <th>3</th>\n",
       "      <td>72</td>\n",
       "      <td>168</td>\n",
       "      <td>85</td>\n",
       "      <td>1182.764706</td>\n",
       "      <td>40.767272</td>\n",
       "      <td>-73.993929</td>\n",
       "      <td>40.739713</td>\n",
       "      <td>-73.994564</td>\n",
       "      <td>ejywFf}rbM`GgRnFwPxBzAzFtDzB~A~BtA|BxAvJrG|F|D...</td>\n",
       "      <td>17 mins</td>\n",
       "    </tr>\n",
       "    <tr>\n",
       "      <th>4</th>\n",
       "      <td>72</td>\n",
       "      <td>173</td>\n",
       "      <td>401</td>\n",
       "      <td>534.299252</td>\n",
       "      <td>40.767272</td>\n",
       "      <td>-73.993929</td>\n",
       "      <td>40.760683</td>\n",
       "      <td>-73.984527</td>\n",
       "      <td>ejywFf}rbMd[}aAzDxBbEbCRH</td>\n",
       "      <td>6 mins</td>\n",
       "    </tr>\n",
       "  </tbody>\n",
       "</table>\n",
       "</div>"
      ],
      "text/plain": [
       "   start station id  end station id  count  avg_duration    ori_lat  \\\n",
       "0                72             150      8   1914.375000  40.767272   \n",
       "1                72             164     15   1116.866667  40.767272   \n",
       "2                72             167     13   1218.692308  40.767272   \n",
       "3                72             168     85   1182.764706  40.767272   \n",
       "4                72             173    401    534.299252  40.767272   \n",
       "\n",
       "     ori_lng    des_lat    des_lng  \\\n",
       "0 -73.993929  40.720874 -73.980858   \n",
       "1 -73.993929  40.753231 -73.970325   \n",
       "2 -73.993929  40.748901 -73.976049   \n",
       "3 -73.993929  40.739713 -73.994564   \n",
       "4 -73.993929  40.760683 -73.984527   \n",
       "\n",
       "                                                line estimate  \n",
       "0  ejywFf}rbM`GgRnFwPxBzAzFtDzB~A~BtA|BxAvJrG|F|D...  29 mins  \n",
       "1  ejywFf}rbMd[}aAzDxBbEbCv@XlAj@ZcAjE}M`GiRj@eB^...  14 mins  \n",
       "2  ejywFf}rbMd[}aAzDxBbEbCv@XlAj@ZcAjE}M`GiRj@eB^...  17 mins  \n",
       "3  ejywFf}rbM`GgRnFwPxBzAzFtDzB~A~BtA|BxAvJrG|F|D...  17 mins  \n",
       "4                          ejywFf}rbMd[}aAzDxBbEbCRH   6 mins  "
      ]
     },
     "execution_count": 3,
     "metadata": {},
     "output_type": "execute_result"
    }
   ],
   "source": [
    "trip = pd.read_csv(os.getenv('PUIDATA') + '/' + 'trip_1_calculated.csv').drop(['Unnamed: 0'], axis=1)\n",
    "print(trip.shape)\n",
    "trip.head()"
   ]
  },
  {
   "cell_type": "markdown",
   "metadata": {},
   "source": [
    "temp = pd.read_csv(os.getenv('PUIDATA') + '/' + 'trip_2_calculated.csv').drop(['Unnamed: 0', 'Unnamed: 0.1'], axis=1)\n",
    "print(trip.shape)\n",
    "temp.head()"
   ]
  },
  {
   "cell_type": "markdown",
   "metadata": {},
   "source": [
    "trip = trip.append(temp)\n",
    "print(trip.shape)\n",
    "trip.head()"
   ]
  },
  {
   "cell_type": "code",
   "execution_count": 4,
   "metadata": {},
   "outputs": [
    {
     "name": "stdout",
     "output_type": "stream",
     "text": [
      "/nfshome/jc9033/PUIdata/trip_2_calculated.cvs\n",
      "/nfshome/jc9033/PUIdata/trip_3_calculated.cvs\n",
      "/nfshome/jc9033/PUIdata/trip_4_calculated.cvs\n",
      "/nfshome/jc9033/PUIdata/trip_5_calculated.cvs\n",
      "/nfshome/jc9033/PUIdata/trip_6_calculated.cvs\n",
      "/nfshome/jc9033/PUIdata/trip_7_calculated.cvs\n",
      "/nfshome/jc9033/PUIdata/trip_8_calculated.cvs\n",
      "/nfshome/jc9033/PUIdata/trip_9_calculated.cvs\n",
      "/nfshome/jc9033/PUIdata/trip_10_calculated.cvs\n",
      "/nfshome/jc9033/PUIdata/trip_11_calculated.cvs\n",
      "/nfshome/jc9033/PUIdata/trip_12_calculated.cvs\n",
      "/nfshome/jc9033/PUIdata/trip_13_calculated.cvs\n",
      "/nfshome/jc9033/PUIdata/trip_14_calculated.cvs\n",
      "/nfshome/jc9033/PUIdata/trip_15_calculated.cvs\n",
      "/nfshome/jc9033/PUIdata/trip_16_calculated.cvs\n",
      "/nfshome/jc9033/PUIdata/trip_17_calculated.cvs\n"
     ]
    }
   ],
   "source": [
    "for i in range(17-1):\n",
    "    print(os.getenv('PUIDATA') + '/' + 'trip_%0.f'%(i+2) + '_calculated.cvs')"
   ]
  },
  {
   "cell_type": "code",
   "execution_count": 5,
   "metadata": {},
   "outputs": [
    {
     "name": "stdout",
     "output_type": "stream",
     "text": [
      "2\n",
      "lenth: 2000\n",
      "\n",
      "3\n",
      "lenth: 3000\n",
      "\n",
      "4\n",
      "lenth: 999\n",
      "\n",
      "5\n",
      "lenth: 4001\n",
      "\n",
      "6\n",
      "lenth: 5001\n",
      "\n",
      "7\n",
      "lenth: 5000\n",
      "\n",
      "8\n",
      "lenth: 5000\n",
      "\n",
      "9\n",
      "lenth: 5000\n",
      "\n",
      "10\n",
      "lenth: 5000\n",
      "\n",
      "11\n",
      "lenth: 5000\n",
      "\n",
      "12\n",
      "lenth: 5000\n",
      "\n",
      "13\n",
      "lenth: 5000\n",
      "\n",
      "14\n",
      "lenth: 5000\n",
      "\n",
      "15\n",
      "lenth: 5000\n",
      "\n",
      "16\n",
      "lenth: 5000\n",
      "\n",
      "17\n",
      "lenth: 18392\n",
      "\n"
     ]
    }
   ],
   "source": [
    "for i in range(17-1):\n",
    "    temp = pd.read_csv(os.getenv('PUIDATA') + '/' + 'trip_%0.f'%(i+2) + '_calculated.csv').drop(['Unnamed: 0', 'Unnamed: 0.1'], axis=1)\n",
    "    trip = trip.append(temp)\n",
    "    print(i+2)\n",
    "    print('lenth: %0.f'%temp.shape[0])\n",
    "    print()"
   ]
  },
  {
   "cell_type": "code",
   "execution_count": 6,
   "metadata": {
    "scrolled": false
   },
   "outputs": [
    {
     "name": "stdout",
     "output_type": "stream",
     "text": [
      "(93394, 10)\n"
     ]
    },
    {
     "data": {
      "text/html": [
       "<div>\n",
       "<table border=\"1\" class=\"dataframe\">\n",
       "  <thead>\n",
       "    <tr style=\"text-align: right;\">\n",
       "      <th></th>\n",
       "      <th>start station id</th>\n",
       "      <th>end station id</th>\n",
       "      <th>count</th>\n",
       "      <th>avg_duration</th>\n",
       "      <th>ori_lat</th>\n",
       "      <th>ori_lng</th>\n",
       "      <th>des_lat</th>\n",
       "      <th>des_lng</th>\n",
       "      <th>line</th>\n",
       "      <th>estimate</th>\n",
       "    </tr>\n",
       "  </thead>\n",
       "  <tbody>\n",
       "    <tr>\n",
       "      <th>0</th>\n",
       "      <td>72</td>\n",
       "      <td>150</td>\n",
       "      <td>8.0</td>\n",
       "      <td>1914.375000</td>\n",
       "      <td>40.767272</td>\n",
       "      <td>-73.993929</td>\n",
       "      <td>40.720874</td>\n",
       "      <td>-73.9809</td>\n",
       "      <td>ejywFf}rbM`GgRnFwPxBzAzFtDzB~A~BtA|BxAvJrG|F|D...</td>\n",
       "      <td>29 mins</td>\n",
       "    </tr>\n",
       "    <tr>\n",
       "      <th>1</th>\n",
       "      <td>72</td>\n",
       "      <td>164</td>\n",
       "      <td>15.0</td>\n",
       "      <td>1116.866667</td>\n",
       "      <td>40.767272</td>\n",
       "      <td>-73.993929</td>\n",
       "      <td>40.753231</td>\n",
       "      <td>-73.9703</td>\n",
       "      <td>ejywFf}rbMd[}aAzDxBbEbCv@XlAj@ZcAjE}M`GiRj@eB^...</td>\n",
       "      <td>14 mins</td>\n",
       "    </tr>\n",
       "    <tr>\n",
       "      <th>2</th>\n",
       "      <td>72</td>\n",
       "      <td>167</td>\n",
       "      <td>13.0</td>\n",
       "      <td>1218.692308</td>\n",
       "      <td>40.767272</td>\n",
       "      <td>-73.993929</td>\n",
       "      <td>40.748901</td>\n",
       "      <td>-73.976</td>\n",
       "      <td>ejywFf}rbMd[}aAzDxBbEbCv@XlAj@ZcAjE}M`GiRj@eB^...</td>\n",
       "      <td>17 mins</td>\n",
       "    </tr>\n",
       "    <tr>\n",
       "      <th>3</th>\n",
       "      <td>72</td>\n",
       "      <td>168</td>\n",
       "      <td>85.0</td>\n",
       "      <td>1182.764706</td>\n",
       "      <td>40.767272</td>\n",
       "      <td>-73.993929</td>\n",
       "      <td>40.739713</td>\n",
       "      <td>-73.9946</td>\n",
       "      <td>ejywFf}rbM`GgRnFwPxBzAzFtDzB~A~BtA|BxAvJrG|F|D...</td>\n",
       "      <td>17 mins</td>\n",
       "    </tr>\n",
       "    <tr>\n",
       "      <th>4</th>\n",
       "      <td>72</td>\n",
       "      <td>173</td>\n",
       "      <td>401.0</td>\n",
       "      <td>534.299252</td>\n",
       "      <td>40.767272</td>\n",
       "      <td>-73.993929</td>\n",
       "      <td>40.760683</td>\n",
       "      <td>-73.9845</td>\n",
       "      <td>ejywFf}rbMd[}aAzDxBbEbCRH</td>\n",
       "      <td>6 mins</td>\n",
       "    </tr>\n",
       "  </tbody>\n",
       "</table>\n",
       "</div>"
      ],
      "text/plain": [
       "   start station id  end station id  count  avg_duration    ori_lat  \\\n",
       "0                72             150    8.0   1914.375000  40.767272   \n",
       "1                72             164   15.0   1116.866667  40.767272   \n",
       "2                72             167   13.0   1218.692308  40.767272   \n",
       "3                72             168   85.0   1182.764706  40.767272   \n",
       "4                72             173  401.0    534.299252  40.767272   \n",
       "\n",
       "     ori_lng    des_lat  des_lng  \\\n",
       "0 -73.993929  40.720874 -73.9809   \n",
       "1 -73.993929  40.753231 -73.9703   \n",
       "2 -73.993929  40.748901  -73.976   \n",
       "3 -73.993929  40.739713 -73.9946   \n",
       "4 -73.993929  40.760683 -73.9845   \n",
       "\n",
       "                                                line estimate  \n",
       "0  ejywFf}rbM`GgRnFwPxBzAzFtDzB~A~BtA|BxAvJrG|F|D...  29 mins  \n",
       "1  ejywFf}rbMd[}aAzDxBbEbCv@XlAj@ZcAjE}M`GiRj@eB^...  14 mins  \n",
       "2  ejywFf}rbMd[}aAzDxBbEbCv@XlAj@ZcAjE}M`GiRj@eB^...  17 mins  \n",
       "3  ejywFf}rbM`GgRnFwPxBzAzFtDzB~A~BtA|BxAvJrG|F|D...  17 mins  \n",
       "4                          ejywFf}rbMd[}aAzDxBbEbCRH   6 mins  "
      ]
     },
     "execution_count": 6,
     "metadata": {},
     "output_type": "execute_result"
    }
   ],
   "source": [
    "print(trip.shape)\n",
    "trip.head()"
   ]
  },
  {
   "cell_type": "code",
   "execution_count": 7,
   "metadata": {},
   "outputs": [
    {
     "name": "stdout",
     "output_type": "stream",
     "text": [
      "mkdir: cannot create directory ‘Output’: File exists\r\n"
     ]
    }
   ],
   "source": [
    "%mkdir Output"
   ]
  },
  {
   "cell_type": "code",
   "execution_count": 8,
   "metadata": {},
   "outputs": [],
   "source": [
    "path='Output/trip_integrated.csv'\n",
    "trip.to_csv(path)"
   ]
  },
  {
   "cell_type": "code",
   "execution_count": null,
   "metadata": {},
   "outputs": [],
   "source": []
  }
 ],
 "metadata": {
  "kernelspec": {
   "display_name": "Python 3",
   "language": "python",
   "name": "python3"
  },
  "language_info": {
   "codemirror_mode": {
    "name": "ipython",
    "version": 3
   },
   "file_extension": ".py",
   "mimetype": "text/x-python",
   "name": "python",
   "nbconvert_exporter": "python",
   "pygments_lexer": "ipython3",
   "version": "3.6.5"
  }
 },
 "nbformat": 4,
 "nbformat_minor": 2
}

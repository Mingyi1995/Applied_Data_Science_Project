{
 "cells": [
  {
   "cell_type": "code",
   "execution_count": 1,
   "metadata": {},
   "outputs": [],
   "source": [
    "import numpy as np\n",
    "from sklearn.ensemble  import RandomForestClassifier as rfc\n",
    "from sklearn.model_selection import train_test_split\n",
    "from sklearn.metrics import confusion_matrix\n",
    "from sklearn.metrics import classification_report\n",
    "# from sklearn import cross_validation, metrics\n",
    "from sklearn import metrics\n",
    "from sklearn import linear_model\n",
    "from sklearn.cluster import KMeans\n",
    "from scipy.spatial.distance import cdist\n",
    "import statsmodels.api as sm\n",
    "import statsmodels.regression.linear_model\n",
    "from statsmodels.tools.tools import add_constant\n",
    "from sklearn.neighbors import KNeighborsClassifier\n",
    "import matplotlib.pyplot as plt\n",
    "from sklearn.tree import export_graphviz\n",
    "%matplotlib inline"
   ]
  },
  {
   "cell_type": "code",
   "execution_count": 2,
   "metadata": {},
   "outputs": [],
   "source": [
    "X = np.load('var.npy')\n",
    "y = np.load('count.npy')\n",
    "X[np.isnan(X)] = 0\n",
    "# X = add_constant(X)"
   ]
  },
  {
   "cell_type": "code",
   "execution_count": 18,
   "metadata": {},
   "outputs": [],
   "source": [
    "# preprocessing ZCA code from https://stackoverflow.com/questions/6574782/how-to-whiten-matrix-in-pca\n",
    "def whiten(X,fudge=1E-18):\n",
    "\n",
    "   # the matrix X should be observations-by-components\n",
    "\n",
    "   # get the covariance matrix\n",
    "    Xcov = np.dot(X.T,X)\n",
    "\n",
    "   # eigenvalue decomposition of the covariance matrix\n",
    "    d, V = np.linalg.eigh(Xcov)\n",
    "\n",
    "   # a fudge factor can be used so that eigenvectors associated with\n",
    "   # small eigenvalues do not get overamplified.\n",
    "    D = np.diag(1. / np.sqrt(d+fudge))\n",
    "\n",
    "   # whitening matrix\n",
    "    W = np.dot(np.dot(V, D), V.T)\n",
    "\n",
    "   # multiply by the whitening matrix\n",
    "    X_white = np.dot(X, W)\n",
    "\n",
    "    return X_white"
   ]
  },
  {
   "cell_type": "code",
   "execution_count": 15,
   "metadata": {},
   "outputs": [],
   "source": [
    "X_train, X_test, y_train, y_test = train_test_split(X, y, test_size=0.9, random_state=42)"
   ]
  },
  {
   "cell_type": "code",
   "execution_count": 19,
   "metadata": {},
   "outputs": [
    {
     "name": "stdout",
     "output_type": "stream",
     "text": [
      "CPU times: user 3.11 ms, sys: 1.13 ms, total: 4.25 ms\n",
      "Wall time: 1.83 ms\n"
     ]
    }
   ],
   "source": [
    "%%time\n",
    "X_train = whiten(X_train)"
   ]
  },
  {
   "cell_type": "code",
   "execution_count": 20,
   "metadata": {},
   "outputs": [
    {
     "data": {
      "text/plain": [
       "(3872, 35)"
      ]
     },
     "execution_count": 20,
     "metadata": {},
     "output_type": "execute_result"
    }
   ],
   "source": [
    "X_train.shape"
   ]
  },
  {
   "cell_type": "code",
   "execution_count": 41,
   "metadata": {},
   "outputs": [
    {
     "data": {
      "text/plain": [
       "RandomForestClassifier(bootstrap=True, class_weight=None, criterion='gini',\n",
       "            max_depth=None, max_features='auto', max_leaf_nodes=None,\n",
       "            min_impurity_decrease=0.0, min_impurity_split=None,\n",
       "            min_samples_leaf=1, min_samples_split=2,\n",
       "            min_weight_fraction_leaf=0.0, n_estimators=10, n_jobs=4,\n",
       "            oob_score=False, random_state=10, verbose=0, warm_start=False)"
      ]
     },
     "execution_count": 41,
     "metadata": {},
     "output_type": "execute_result"
    }
   ],
   "source": [
    "# X_train, X_test, y_train, y_test = train_test_split(X, y, test_size=0.33, random_state=42)\n",
    "rf = rfc(n_estimators=10, oob_score=False, random_state=10, n_jobs=4, min_samples_leaf=1, min_samples_split=2)\n",
    "rf.fit(X_train,y_train)\n",
    "# print(rf.score)\n",
    "# print (rf.oob_score_)\n",
    "# y_pred = rf0.predict(X_test)\n",
    "\n",
    "# plt.figure(figsize=(6,6))\n",
    "# im = plt.imshow(confusion_matrix(y_test, y_pred), interpolation='none')\n",
    "# plt.show()"
   ]
  },
  {
   "cell_type": "code",
   "execution_count": 22,
   "metadata": {},
   "outputs": [
    {
     "data": {
      "text/plain": [
       "0.9865702479338843"
      ]
     },
     "execution_count": 22,
     "metadata": {},
     "output_type": "execute_result"
    }
   ],
   "source": [
    "rf.score(X_train,y_train)"
   ]
  },
  {
   "cell_type": "code",
   "execution_count": 23,
   "metadata": {},
   "outputs": [
    {
     "data": {
      "text/plain": [
       "0.2897432219193803"
      ]
     },
     "execution_count": 23,
     "metadata": {},
     "output_type": "execute_result"
    }
   ],
   "source": [
    "rf.score(X_test,y_test)"
   ]
  },
  {
   "cell_type": "code",
   "execution_count": 25,
   "metadata": {},
   "outputs": [
    {
     "data": {
      "text/plain": [
       "array([0.02601162, 0.03158607, 0.02711408, 0.02999613, 0.0277779 ,\n",
       "       0.02571044, 0.02870678, 0.02854153, 0.02379963, 0.02789523,\n",
       "       0.02796754, 0.02653658, 0.02888962, 0.02853972, 0.02547488,\n",
       "       0.02780779, 0.0254923 , 0.02607316, 0.02624248, 0.02562522,\n",
       "       0.02641579, 0.02675937, 0.02705733, 0.02504567, 0.02783888,\n",
       "       0.02674327, 0.0312919 , 0.0289197 , 0.02960346, 0.02586995,\n",
       "       0.02863672, 0.0276047 , 0.02744427, 0.03847009, 0.05651024])"
      ]
     },
     "execution_count": 25,
     "metadata": {},
     "output_type": "execute_result"
    }
   ],
   "source": [
    "importances = rf.feature_importances_\n",
    "importances"
   ]
  },
  {
   "cell_type": "code",
   "execution_count": 29,
   "metadata": {},
   "outputs": [],
   "source": [
    "features = ['wall', 'building', 'tree', 'road', 'sidewalk',\n",
    "       'car', 'fence', 'railing', 'signboard', 'sky', 'person', 'skyscraper',\n",
    "       'van', 'awning', 'streetlight', 'ashcan', 'ceiling', 'chair', 'bicycle',\n",
    "       'grass', 'earth', 'bridge', 'minibike', 'plant', 'water', 'column',\n",
    "       'sculpture', 'mountain', 'booth', 'windowpane', 'pier',\n",
    "       'bulletin board', 'fountain', 'bike lane', 'route length']"
   ]
  },
  {
   "cell_type": "code",
   "execution_count": 34,
   "metadata": {},
   "outputs": [
    {
     "data": {
      "text/plain": [
       "array([34, 33,  1, 26,  3, 28, 27, 12,  6, 30,  7, 13, 10,  9, 24, 15,  4,\n",
       "       31, 32,  2, 22, 21, 25, 11, 20, 18, 17,  0, 29,  5, 19, 16, 14, 23,\n",
       "        8])"
      ]
     },
     "execution_count": 34,
     "metadata": {},
     "output_type": "execute_result"
    }
   ],
   "source": [
    "indices"
   ]
  },
  {
   "cell_type": "code",
   "execution_count": 37,
   "metadata": {},
   "outputs": [
    {
     "name": "stdout",
     "output_type": "stream",
     "text": [
      "Feature ranking:\n",
      "1. feature 34: wall (0.056510)\n",
      "2. feature 33: building (0.038470)\n",
      "3. feature 1: tree (0.031586)\n",
      "4. feature 26: road (0.031292)\n",
      "5. feature 3: sidewalk (0.029996)\n",
      "6. feature 28: car (0.029603)\n",
      "7. feature 27: fence (0.028920)\n",
      "8. feature 12: railing (0.028890)\n",
      "9. feature 6: signboard (0.028707)\n",
      "10. feature 30: sky (0.028637)\n",
      "11. feature 7: person (0.028542)\n",
      "12. feature 13: skyscraper (0.028540)\n",
      "13. feature 10: van (0.027968)\n",
      "14. feature 9: awning (0.027895)\n",
      "15. feature 24: streetlight (0.027839)\n",
      "16. feature 15: ashcan (0.027808)\n",
      "17. feature 4: ceiling (0.027778)\n",
      "18. feature 31: chair (0.027605)\n",
      "19. feature 32: bicycle (0.027444)\n",
      "20. feature 2: grass (0.027114)\n",
      "21. feature 22: earth (0.027057)\n",
      "22. feature 21: bridge (0.026759)\n",
      "23. feature 25: minibike (0.026743)\n",
      "24. feature 11: plant (0.026537)\n",
      "25. feature 20: water (0.026416)\n",
      "26. feature 18: column (0.026242)\n",
      "27. feature 17: sculpture (0.026073)\n",
      "28. feature 0: mountain (0.026012)\n",
      "29. feature 29: booth (0.025870)\n",
      "30. feature 5: windowpane (0.025710)\n",
      "31. feature 19: pier (0.025625)\n",
      "32. feature 16: bulletin board (0.025492)\n",
      "33. feature 14: fountain (0.025475)\n",
      "34. feature 23: bike lane (0.025046)\n",
      "35. feature 8: route length (0.023800)\n"
     ]
    },
    {
     "data": {
      "image/png": "[encoded data removed]",
      "text/plain": [
       "<Figure size 1296x288 with 1 Axes>"
      ]
     },
     "metadata": {},
     "output_type": "display_data"
    }
   ],
   "source": [
    "std = np.std([tree.feature_importances_ for tree in rf.estimators_],\n",
    "             axis=0)\n",
    "indices = np.argsort(importances)[::-1]\n",
    "\n",
    "# Print the feature ranking\n",
    "print(\"Feature ranking:\")\n",
    "\n",
    "for f in range(X_test.shape[1]):\n",
    "    print(\"%d. feature %d: %s (%f)\" % (f + 1, indices[f], features[f], importances[indices[f]]))\n",
    "\n",
    "# Plot the feature importances of the forest\n",
    "plt.figure(figsize=(18,4))\n",
    "plt.title(\"Feature importances\")\n",
    "plt.bar(range(X_test.shape[1]), importances[indices],\n",
    "       color=\"r\", yerr=std[indices], align=\"center\")\n",
    "plt.xticks(range(X_test.shape[1]), features)\n",
    "plt.xlim([-1, X_test.shape[1]])\n",
    "\n",
    "plt.show()"
   ]
  },
  {
   "cell_type": "code",
   "execution_count": null,
   "metadata": {},
   "outputs": [],
   "source": [
    "from sklearn import tree\n",
    "\n",
    "estimator = rf.estimators_[6]\n",
    "\n",
    "# tree.export_graphviz(rf,out_file='tree.dot')\n",
    "tree.export_graphviz(estimator, out_file='tree.dot')#, \n",
    "#                 feature_names = features,\n",
    "# #                 class_names = i,\n",
    "#                 rounded = True, proportion = False, \n",
    "#                 precision = 2, filled = True)\n",
    "\n",
    "# Convert to png using system command (requires Graphviz)\n",
    "from subprocess import call\n",
    "call(['dot', '-Tpng', 'tree.dot', '-o', 'tree.png', '-Gdpi=600'])\n",
    "\n",
    "# Display in jupyter notebook\n",
    "from IPython.display import Image\n",
    "Image(filename = 'tree.png')"
   ]
  },
  {
   "cell_type": "code",
   "execution_count": null,
   "metadata": {},
   "outputs": [],
   "source": []
  }
 ],
 "metadata": {
  "kernelspec": {
   "display_name": "Python 3",
   "language": "python",
   "name": "python3"
  },
  "language_info": {
   "codemirror_mode": {
    "name": "ipython",
    "version": 3
   },
   "file_extension": ".py",
   "mimetype": "text/x-python",
   "name": "python",
   "nbconvert_exporter": "python",
   "pygments_lexer": "ipython3",
   "version": "3.6.5"
  }
 },
 "nbformat": 4,
 "nbformat_minor": 2
}

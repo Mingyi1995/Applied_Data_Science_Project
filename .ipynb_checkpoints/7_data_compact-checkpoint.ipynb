{
 "cells": [
  {
   "cell_type": "code",
   "execution_count": 1,
   "metadata": {},
   "outputs": [],
   "source": [
    "import pandas as pd\n",
    "import geopandas as gpd\n",
    "import numpy as np"
   ]
  },
  {
   "cell_type": "code",
   "execution_count": 18,
   "metadata": {},
   "outputs": [],
   "source": [
    "psp = pd.read_csv('/Users/hemingyi/Dropbox/New_York_SVI/pspnet_all.csv')\n",
    "df = pd.read_csv('/Users/hemingyi/Dropbox/New_York_SVI/LineContainsPoints.csv')\n",
    "\n",
    "street = gpd.read_file('/Users/hemingyi/Dropbox/New_York_SVI/Output/anglecalculation.shp')\n",
    "route = pd.read_csv('/Users/hemingyi/Dropbox/New_York_SVI/route_clean.csv')\n"
   ]
  },
  {
   "cell_type": "code",
   "execution_count": 19,
   "metadata": {},
   "outputs": [],
   "source": [
    "#merge with index to delete the route which zscore > 1.96\n",
    "route = route[['index']]\n",
    "df = route.merge(df, left_on='index', right_on='index', how='inner')"
   ]
  },
  {
   "cell_type": "code",
   "execution_count": 21,
   "metadata": {},
   "outputs": [],
   "source": [
    "df = df[['index', 'count', 'points','route_leng']]"
   ]
  },
  {
   "cell_type": "code",
   "execution_count": 22,
   "metadata": {},
   "outputs": [],
   "source": [
    "pspvalue = psp[['wall', 'building', 'tree', 'road', 'sidewalk',\n",
    "       'car', 'fence', 'railing', 'signboard', 'sky', 'person', 'skyscraper',\n",
    "       'van', 'awning', 'streetlight', 'ashcan', 'ceiling', 'chair', 'bicycle',\n",
    "       'grass', 'earth', 'bridge', 'minibike', 'plant', 'water', 'column',\n",
    "       'sculpture', 'mountain', 'booth', 'windowpane', 'pier',\n",
    "       'bulletin board', 'fountain']].values\n",
    "# compact the value from psp net\n",
    "def val(x):\n",
    "    a = int(x['Unnamed: 0'])\n",
    "    return pspvalue[a]\n",
    "psp['pspval'] = psp.apply(val, axis=1)"
   ]
  },
  {
   "cell_type": "code",
   "execution_count": 23,
   "metadata": {},
   "outputs": [],
   "source": [
    "#get the length of lines\n",
    "street['len'] = street['geometry'].length\n",
    "street['FID'] = street.index\n",
    "psp = psp.merge(street, left_on='FID', right_on='FID', how='inner')\n",
    "psp['val'] = psp['len'] * psp['pspval']"
   ]
  },
  {
   "cell_type": "code",
   "execution_count": 24,
   "metadata": {},
   "outputs": [],
   "source": [
    "# delete point which has no value\n",
    "def one(x):\n",
    "    return len(x['val'])\n",
    "psp['one'] = psp.apply(one, axis=1)\n",
    "psp = psp[psp['one'] != 0]"
   ]
  },
  {
   "cell_type": "code",
   "execution_count": 25,
   "metadata": {},
   "outputs": [],
   "source": [
    "psp = psp[['FID', 'val']]"
   ]
  },
  {
   "cell_type": "code",
   "execution_count": 26,
   "metadata": {},
   "outputs": [],
   "source": [
    "vals = ['wall', 'building', 'tree', 'road', 'sidewalk',\n",
    "       'car', 'fence', 'railing', 'signboard', 'sky', 'person', 'skyscraper',\n",
    "       'van', 'awning', 'streetlight', 'ashcan', 'ceiling', 'chair', 'bicycle',\n",
    "       'grass', 'earth', 'bridge', 'minibike', 'plant', 'water', 'column',\n",
    "       'sculpture', 'mountain', 'booth', 'windowpane', 'pier',\n",
    "       'bulletin board', 'fountain']"
   ]
  },
  {
   "cell_type": "code",
   "execution_count": 27,
   "metadata": {},
   "outputs": [],
   "source": [
    "# the column point is str\n",
    "def tolist(x):\n",
    "    if len(x['points']) > 3:\n",
    "        point_list = [int(x) for x in x['points'][1:-1].split(',')]\n",
    "        return point_list\n",
    "    else:\n",
    "        return np.nan"
   ]
  },
  {
   "cell_type": "code",
   "execution_count": 28,
   "metadata": {},
   "outputs": [
    {
     "name": "stdout",
     "output_type": "stream",
     "text": [
      "CPU times: user 2.58 s, sys: 153 ms, total: 2.73 s\n",
      "Wall time: 2.76 s\n"
     ]
    }
   ],
   "source": [
    "%%time\n",
    "df['POINTS'] = df.apply(tolist, axis=1)"
   ]
  },
  {
   "cell_type": "code",
   "execution_count": 29,
   "metadata": {},
   "outputs": [],
   "source": [
    "psp_point = psp['FID'].values"
   ]
  },
  {
   "cell_type": "code",
   "execution_count": 30,
   "metadata": {},
   "outputs": [],
   "source": [
    "# sub = df.sample(10,random_state=1)\n",
    "def only_point(x):\n",
    "    retA = [i for i in x['POINTS'] if i in psp_point]\n",
    "    if len(retA) == 0:\n",
    "        return np.nan\n",
    "    else: return retA"
   ]
  },
  {
   "cell_type": "code",
   "execution_count": 14,
   "metadata": {},
   "outputs": [
    {
     "name": "stdout",
     "output_type": "stream",
     "text": [
      "CPU times: user 25.4 s, sys: 228 ms, total: 25.6 s\n",
      "Wall time: 26.2 s\n"
     ]
    }
   ],
   "source": [
    "%%time\n",
    "# score = np.array([])\n",
    "# sub = df.sample(10,random_state=1)\n",
    "df['p'] = df.apply(only_point, axis=1)"
   ]
  },
  {
   "cell_type": "code",
   "execution_count": 15,
   "metadata": {},
   "outputs": [],
   "source": [
    "df = df.dropna()"
   ]
  },
  {
   "cell_type": "code",
   "execution_count": 16,
   "metadata": {},
   "outputs": [
    {
     "data": {
      "text/plain": [
       "array([           nan, 5.20423373e-05, 1.49995549e-08, 6.49868873e-06,\n",
       "       5.78640724e-06, 2.05388642e-07, 3.43937162e-07,            nan,\n",
       "                  nan,            nan, 1.04141647e-07,            nan,\n",
       "       7.19715485e-08,            nan, 4.31566141e-08,            nan,\n",
       "                  nan,            nan,            nan,            nan,\n",
       "                  nan,            nan,            nan,            nan,\n",
       "                  nan,            nan,            nan,            nan,\n",
       "                  nan,            nan,            nan,            nan,\n",
       "                  nan])"
      ]
     },
     "execution_count": 16,
     "metadata": {},
     "output_type": "execute_result"
    }
   ],
   "source": [
    "psp[psp['FID'] == 3959]['val'].values[0]"
   ]
  },
  {
   "cell_type": "code",
   "execution_count": 17,
   "metadata": {},
   "outputs": [
    {
     "data": {
      "text/html": [
       "<div>\n",
       "<style scoped>\n",
       "    .dataframe tbody tr th:only-of-type {\n",
       "        vertical-align: middle;\n",
       "    }\n",
       "\n",
       "    .dataframe tbody tr th {\n",
       "        vertical-align: top;\n",
       "    }\n",
       "\n",
       "    .dataframe thead th {\n",
       "        text-align: right;\n",
       "    }\n",
       "</style>\n",
       "<table border=\"1\" class=\"dataframe\">\n",
       "  <thead>\n",
       "    <tr style=\"text-align: right;\">\n",
       "      <th></th>\n",
       "      <th>index</th>\n",
       "      <th>count</th>\n",
       "      <th>points</th>\n",
       "      <th>POINTS</th>\n",
       "      <th>p</th>\n",
       "    </tr>\n",
       "  </thead>\n",
       "  <tbody>\n",
       "    <tr>\n",
       "      <th>0</th>\n",
       "      <td>2</td>\n",
       "      <td>13</td>\n",
       "      <td>[22, 60, 142, 144, 396, 577, 592, 692, 967, 10...</td>\n",
       "      <td>[22, 60, 142, 144, 396, 577, 592, 692, 967, 10...</td>\n",
       "      <td>[22, 60, 142, 144, 577, 967, 1004, 1041, 1221,...</td>\n",
       "    </tr>\n",
       "    <tr>\n",
       "      <th>1</th>\n",
       "      <td>5</td>\n",
       "      <td>4</td>\n",
       "      <td>[14, 40, 111, 160, 219, 269, 270, 382, 722, 74...</td>\n",
       "      <td>[14, 40, 111, 160, 219, 269, 270, 382, 722, 74...</td>\n",
       "      <td>[40, 111, 219, 270, 879, 982, 1041, 1125, 1170...</td>\n",
       "    </tr>\n",
       "    <tr>\n",
       "      <th>2</th>\n",
       "      <td>8</td>\n",
       "      <td>11</td>\n",
       "      <td>[139, 147, 148, 219, 278, 434, 548, 562, 644, ...</td>\n",
       "      <td>[139, 147, 148, 219, 278, 434, 548, 562, 644, ...</td>\n",
       "      <td>[139, 219, 548, 562, 644, 844, 879, 905, 951, ...</td>\n",
       "    </tr>\n",
       "    <tr>\n",
       "      <th>3</th>\n",
       "      <td>13</td>\n",
       "      <td>1</td>\n",
       "      <td>[18, 36, 77, 129, 166, 173, 177, 245, 268, 291...</td>\n",
       "      <td>[18, 36, 77, 129, 166, 173, 177, 245, 268, 291...</td>\n",
       "      <td>[18, 36, 77, 129, 166, 245, 268, 291, 314, 413...</td>\n",
       "    </tr>\n",
       "    <tr>\n",
       "      <th>4</th>\n",
       "      <td>14</td>\n",
       "      <td>1</td>\n",
       "      <td>[18, 36, 77, 129, 166, 173, 177, 268, 291, 314...</td>\n",
       "      <td>[18, 36, 77, 129, 166, 173, 177, 268, 291, 314...</td>\n",
       "      <td>[18, 36, 77, 129, 166, 268, 291, 314, 495, 505...</td>\n",
       "    </tr>\n",
       "  </tbody>\n",
       "</table>\n",
       "</div>"
      ],
      "text/plain": [
       "   index  count                                             points  \\\n",
       "0      2     13  [22, 60, 142, 144, 396, 577, 592, 692, 967, 10...   \n",
       "1      5      4  [14, 40, 111, 160, 219, 269, 270, 382, 722, 74...   \n",
       "2      8     11  [139, 147, 148, 219, 278, 434, 548, 562, 644, ...   \n",
       "3     13      1  [18, 36, 77, 129, 166, 173, 177, 245, 268, 291...   \n",
       "4     14      1  [18, 36, 77, 129, 166, 173, 177, 268, 291, 314...   \n",
       "\n",
       "                                              POINTS  \\\n",
       "0  [22, 60, 142, 144, 396, 577, 592, 692, 967, 10...   \n",
       "1  [14, 40, 111, 160, 219, 269, 270, 382, 722, 74...   \n",
       "2  [139, 147, 148, 219, 278, 434, 548, 562, 644, ...   \n",
       "3  [18, 36, 77, 129, 166, 173, 177, 245, 268, 291...   \n",
       "4  [18, 36, 77, 129, 166, 173, 177, 268, 291, 314...   \n",
       "\n",
       "                                                   p  \n",
       "0  [22, 60, 142, 144, 577, 967, 1004, 1041, 1221,...  \n",
       "1  [40, 111, 219, 270, 879, 982, 1041, 1125, 1170...  \n",
       "2  [139, 219, 548, 562, 644, 844, 879, 905, 951, ...  \n",
       "3  [18, 36, 77, 129, 166, 245, 268, 291, 314, 413...  \n",
       "4  [18, 36, 77, 129, 166, 268, 291, 314, 495, 505...  "
      ]
     },
     "execution_count": 17,
     "metadata": {},
     "output_type": "execute_result"
    }
   ],
   "source": [
    "df.head()"
   ]
  },
  {
   "cell_type": "code",
   "execution_count": 683,
   "metadata": {},
   "outputs": [],
   "source": [
    "def score_cal(x):\n",
    "#     matrix = []\n",
    "    a = np.zeros(33)\n",
    "    for i,j in enumerate(x['p']):\n",
    "#         print(j)\n",
    "#         a = np.r_[a, psp[psp['FID'] == j]['val'].values[0]]\n",
    "        a = np.row_stack((a,psp[psp['FID'] == j]['val'].values[0]))\n",
    "#         print(a)\n",
    "#         locals()['var'+ str(i)] = psp[psp['FID'] == j]['val'].values\n",
    "#         if i > 0:\n",
    "# #                 print(j)\n",
    "#             a = np.r_[a, psp[psp['FID'] == j]['val'].values]\n",
    "#             locals()['var'+ str(i - 1)] = np.r_[locals()['var'+ str(i - 1)], locals()['var'+ str(i)]]\n",
    "#         else: \n",
    "#             pass              \n",
    "    return (np.nanmean(a[1:], axis=0))"
   ]
  },
  {
   "cell_type": "code",
   "execution_count": 684,
   "metadata": {},
   "outputs": [
    {
     "name": "stderr",
     "output_type": "stream",
     "text": [
      "/Users/hemingyi/anaconda2/envs/py36/lib/python3.6/site-packages/ipykernel_launcher.py:16: RuntimeWarning: Mean of empty slice\n",
      "  app.launch_new_instance()\n"
     ]
    },
    {
     "name": "stdout",
     "output_type": "stream",
     "text": [
      "CPU times: user 1min 57s, sys: 399 ms, total: 1min 57s\n",
      "Wall time: 1min 58s\n"
     ]
    }
   ],
   "source": [
    "%%time\n",
    "\n",
    "df['score'] = df.apply(score_cal, axis=1)"
   ]
  },
  {
   "cell_type": "code",
   "execution_count": 686,
   "metadata": {},
   "outputs": [],
   "source": [
    "np.save('count',df['count'].values)"
   ]
  },
  {
   "cell_type": "code",
   "execution_count": 688,
   "metadata": {},
   "outputs": [],
   "source": [
    "np.save('var',df['score'].values)"
   ]
  },
  {
   "cell_type": "code",
   "execution_count": null,
   "metadata": {},
   "outputs": [],
   "source": []
  }
 ],
 "metadata": {
  "kernelspec": {
   "display_name": "Python 3",
   "language": "python",
   "name": "python3"
  },
  "language_info": {
   "codemirror_mode": {
    "name": "ipython",
    "version": 3
   },
   "file_extension": ".py",
   "mimetype": "text/x-python",
   "name": "python",
   "nbconvert_exporter": "python",
   "pygments_lexer": "ipython3",
   "version": "3.6.5"
  }
 },
 "nbformat": 4,
 "nbformat_minor": 2
}
